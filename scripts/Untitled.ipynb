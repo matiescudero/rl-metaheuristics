{
 "cells": [
  {
   "cell_type": "code",
   "execution_count": 1,
   "id": "f48a09ee",
   "metadata": {},
   "outputs": [],
   "source": [
    "import requests\n",
    "import numpy as np"
   ]
  },
  {
   "cell_type": "code",
   "execution_count": 2,
   "id": "97579da4",
   "metadata": {},
   "outputs": [],
   "source": [
    "def readQAP_from_URL(url):\n",
    "    \"\"\"\n",
    "    Lee un archivo DAT desde una URL y lo transforma en un diccionario que contiene el número de nodos (n), matriz de flujo (f) \n",
    "    y matriz de distancia (d)\n",
    "\n",
    "    Args:\n",
    "        url (str): URL del archivo .dat a leer\n",
    "\n",
    "    Returns:\n",
    "        instance_dict (dict): Diccionario que contiene el número de nodos (n), matriz de flujo (f) y matriz de distancia (d)\n",
    "    \"\"\"\n",
    "    response = requests.get(url)\n",
    "    content = response.text.split('\\n')\n",
    "    \n",
    "    n_nodos = int(content[0])\n",
    "    flow_matrix = np.array([list(map(int, line.split())) for line in content[1:n_nodos+1]])\n",
    "    distance_matrix = np.array([list(map(int, line.split())) for line in content[n_nodos+2:2*n_nodos+2]])\n",
    "    \n",
    "    instance_dict = {'n': n_nodos, 'f': flow_matrix, 'd': distance_matrix}\n",
    "    \n",
    "    return instance_dict"
   ]
  },
  {
   "cell_type": "code",
   "execution_count": 3,
   "id": "c7a1b738",
   "metadata": {},
   "outputs": [
    {
     "name": "stdout",
     "output_type": "stream",
     "text": [
      "{'n': 40, 'f': array([[ 0,  1,  2, ...,  9, 10, 11],\n",
      "       [ 1,  0,  1, ...,  8,  9, 10],\n",
      "       [ 2,  1,  0, ...,  7,  8,  9],\n",
      "       ...,\n",
      "       [ 9,  8,  7, ...,  0,  1,  2],\n",
      "       [10,  9,  8, ...,  1,  0,  1],\n",
      "       [11, 10,  9, ...,  2,  1,  0]]), 'd': array([[  0,  77,   0, ...,   0, 161,   0],\n",
      "       [ 77,   0,   0, ..., 126, 149, 129],\n",
      "       [  0,   0,   0, ...,   0,   0,   0],\n",
      "       ...,\n",
      "       [  0, 126,   0, ...,   0, 149,   0],\n",
      "       [161, 149,   0, ..., 149,   0,   0],\n",
      "       [  0, 129,   0, ...,   0,   0,   0]])}\n"
     ]
    }
   ],
   "source": [
    "url = 'https://www.opt.math.tugraz.at/qaplib/data.d/tho40.dat'\n",
    "result = readQAP_from_URL(url)\n",
    "print(result)"
   ]
  },
  {
   "cell_type": "code",
   "execution_count": 4,
   "id": "b66e425b",
   "metadata": {},
   "outputs": [
    {
     "data": {
      "text/plain": [
       "array([[ 0,  1,  2, ...,  9, 10, 11],\n",
       "       [ 1,  0,  1, ...,  8,  9, 10],\n",
       "       [ 2,  1,  0, ...,  7,  8,  9],\n",
       "       ...,\n",
       "       [ 9,  8,  7, ...,  0,  1,  2],\n",
       "       [10,  9,  8, ...,  1,  0,  1],\n",
       "       [11, 10,  9, ...,  2,  1,  0]])"
      ]
     },
     "execution_count": 4,
     "metadata": {},
     "output_type": "execute_result"
    }
   ],
   "source": [
    "result['f']"
   ]
  },
  {
   "cell_type": "code",
   "execution_count": null,
   "id": "fd5c42c1",
   "metadata": {},
   "outputs": [],
   "source": []
  }
 ],
 "metadata": {
  "kernelspec": {
   "display_name": "Python 3 (ipykernel)",
   "language": "python",
   "name": "python3"
  },
  "language_info": {
   "codemirror_mode": {
    "name": "ipython",
    "version": 3
   },
   "file_extension": ".py",
   "mimetype": "text/x-python",
   "name": "python",
   "nbconvert_exporter": "python",
   "pygments_lexer": "ipython3",
   "version": "3.10.6"
  }
 },
 "nbformat": 4,
 "nbformat_minor": 5
}
